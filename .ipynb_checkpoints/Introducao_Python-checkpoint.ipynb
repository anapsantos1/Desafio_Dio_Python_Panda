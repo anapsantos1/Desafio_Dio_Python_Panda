{
 "cells": [
  {
   "cell_type": "code",
   "execution_count": 1,
   "id": "09e644c0",
   "metadata": {},
   "outputs": [
    {
     "name": "stdout",
     "output_type": "stream",
     "text": [
      "Olá Mundo\n"
     ]
    }
   ],
   "source": [
    "print(\"Olá Mundo\")"
   ]
  },
  {
   "cell_type": "code",
   "execution_count": 3,
   "id": "18b84595",
   "metadata": {},
   "outputs": [
    {
     "name": "stdout",
     "output_type": "stream",
     "text": [
      "Estou aprendendo Python\n"
     ]
    }
   ],
   "source": [
    "print(\"Estou aprendendo Python\")"
   ]
  },
  {
   "cell_type": "code",
   "execution_count": 4,
   "id": "436d5361",
   "metadata": {},
   "outputs": [
    {
     "data": {
      "text/plain": [
       "'Estou aprendendo Python'"
      ]
     },
     "execution_count": 4,
     "metadata": {},
     "output_type": "execute_result"
    }
   ],
   "source": [
    "\"Estou aprendendo Python\""
   ]
  },
  {
   "cell_type": "code",
   "execution_count": 6,
   "id": "7d2ce135",
   "metadata": {},
   "outputs": [
    {
     "data": {
      "text/plain": [
       "2"
      ]
     },
     "execution_count": 6,
     "metadata": {},
     "output_type": "execute_result"
    }
   ],
   "source": [
    "1 + 1"
   ]
  },
  {
   "cell_type": "code",
   "execution_count": 7,
   "id": "10ce50c4",
   "metadata": {},
   "outputs": [
    {
     "data": {
      "text/plain": [
       "8"
      ]
     },
     "execution_count": 7,
     "metadata": {},
     "output_type": "execute_result"
    }
   ],
   "source": [
    "10 - 2"
   ]
  },
  {
   "cell_type": "code",
   "execution_count": 8,
   "id": "5428ec68",
   "metadata": {},
   "outputs": [
    {
     "data": {
      "text/plain": [
       "4"
      ]
     },
     "execution_count": 8,
     "metadata": {},
     "output_type": "execute_result"
    }
   ],
   "source": [
    "2 * 2"
   ]
  },
  {
   "cell_type": "code",
   "execution_count": 9,
   "id": "36927b64",
   "metadata": {},
   "outputs": [
    {
     "data": {
      "text/plain": [
       "5.0"
      ]
     },
     "execution_count": 9,
     "metadata": {},
     "output_type": "execute_result"
    }
   ],
   "source": [
    "10/2"
   ]
  },
  {
   "cell_type": "code",
   "execution_count": 10,
   "id": "0769e8f2",
   "metadata": {},
   "outputs": [],
   "source": [
    "a = 4\n",
    "b = 6"
   ]
  },
  {
   "cell_type": "code",
   "execution_count": 11,
   "id": "d58a0b9a",
   "metadata": {},
   "outputs": [
    {
     "data": {
      "text/plain": [
       "10"
      ]
     },
     "execution_count": 11,
     "metadata": {},
     "output_type": "execute_result"
    }
   ],
   "source": [
    "a + b"
   ]
  },
  {
   "cell_type": "code",
   "execution_count": 12,
   "id": "a99920ba",
   "metadata": {},
   "outputs": [],
   "source": [
    "frase = \"Python para análise de dados\""
   ]
  },
  {
   "cell_type": "code",
   "execution_count": 13,
   "id": "dde402d4",
   "metadata": {},
   "outputs": [
    {
     "data": {
      "text/plain": [
       "'P'"
      ]
     },
     "execution_count": 13,
     "metadata": {},
     "output_type": "execute_result"
    }
   ],
   "source": [
    "frase[0]"
   ]
  },
  {
   "cell_type": "code",
   "execution_count": 14,
   "id": "17f7f42d",
   "metadata": {},
   "outputs": [
    {
     "data": {
      "text/plain": [
       "'Python par'"
      ]
     },
     "execution_count": 14,
     "metadata": {},
     "output_type": "execute_result"
    }
   ],
   "source": [
    "frase[0:10]"
   ]
  },
  {
   "cell_type": "code",
   "execution_count": 15,
   "id": "f32d1346",
   "metadata": {},
   "outputs": [
    {
     "data": {
      "text/plain": [
       "'a análise de dados'"
      ]
     },
     "execution_count": 15,
     "metadata": {},
     "output_type": "execute_result"
    }
   ],
   "source": [
    "frase[10:]"
   ]
  },
  {
   "cell_type": "code",
   "execution_count": 16,
   "id": "9db2a675",
   "metadata": {},
   "outputs": [
    {
     "data": {
      "text/plain": [
       "'Python para análi'"
      ]
     },
     "execution_count": 16,
     "metadata": {},
     "output_type": "execute_result"
    }
   ],
   "source": [
    "frase[:17]"
   ]
  },
  {
   "cell_type": "code",
   "execution_count": 17,
   "id": "abdd6854",
   "metadata": {},
   "outputs": [
    {
     "data": {
      "text/plain": [
       "1"
      ]
     },
     "execution_count": 17,
     "metadata": {},
     "output_type": "execute_result"
    }
   ],
   "source": [
    "frase.count(\"dados\")"
   ]
  },
  {
   "cell_type": "code",
   "execution_count": 18,
   "id": "261983df",
   "metadata": {},
   "outputs": [
    {
     "data": {
      "text/plain": [
       "'python para análise de dados'"
      ]
     },
     "execution_count": 18,
     "metadata": {},
     "output_type": "execute_result"
    }
   ],
   "source": [
    "frase.lower()"
   ]
  },
  {
   "cell_type": "code",
   "execution_count": 19,
   "id": "ae7c732d",
   "metadata": {},
   "outputs": [],
   "source": [
    "frase = frase.upper()"
   ]
  },
  {
   "cell_type": "code",
   "execution_count": 20,
   "id": "87ab3f28",
   "metadata": {},
   "outputs": [
    {
     "data": {
      "text/plain": [
       "'PYTHON PARA ANÁLISE DE DADOS'"
      ]
     },
     "execution_count": 20,
     "metadata": {},
     "output_type": "execute_result"
    }
   ],
   "source": [
    "frase.replace(\"Python\",\"Frases\")"
   ]
  },
  {
   "cell_type": "code",
   "execution_count": 21,
   "id": "f2456bd0",
   "metadata": {},
   "outputs": [
    {
     "data": {
      "text/plain": [
       "'PYTHON PARA ANÁLISE DE DADOS'"
      ]
     },
     "execution_count": 21,
     "metadata": {},
     "output_type": "execute_result"
    }
   ],
   "source": [
    "frase"
   ]
  },
  {
   "cell_type": "code",
   "execution_count": null,
   "id": "4d8a0bdf",
   "metadata": {},
   "outputs": [],
   "source": []
  }
 ],
 "metadata": {
  "kernelspec": {
   "display_name": "Python 3",
   "language": "python",
   "name": "python3"
  },
  "language_info": {
   "codemirror_mode": {
    "name": "ipython",
    "version": 3
   },
   "file_extension": ".py",
   "mimetype": "text/x-python",
   "name": "python",
   "nbconvert_exporter": "python",
   "pygments_lexer": "ipython3",
   "version": "3.8.8"
  }
 },
 "nbformat": 4,
 "nbformat_minor": 5
}
